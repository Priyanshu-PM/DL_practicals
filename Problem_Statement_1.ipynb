{
  "nbformat": 4,
  "nbformat_minor": 0,
  "metadata": {
    "colab": {
      "provenance": []
    },
    "kernelspec": {
      "name": "python3",
      "display_name": "Python 3"
    },
    "language_info": {
      "name": "python"
    }
  },
  "cells": [
    {
      "cell_type": "code",
      "execution_count": 1,
      "metadata": {
        "id": "9h2kbZ-x-EtG"
      },
      "outputs": [],
      "source": [
        "#Name : Priyanshu Mahukhaye\n",
        "#Roll : 43341"
      ]
    },
    {
      "cell_type": "markdown",
      "source": [
        "# **Problem Statement 1**\n",
        "\n",
        "\n",
        "Feedforward Neural Network\n",
        "\n",
        "Implementing Feedforward neural networks with Keras and Tensorflow for classification of handwritten MNIST dataset using below steps"
      ],
      "metadata": {
        "id": "04H9t0qYCGTF"
      }
    },
    {
      "cell_type": "markdown",
      "source": [
        "\n",
        "\n",
        "```\n",
        "a. import the necessary packages\n",
        "b. Load the training and testing dataset\n",
        "c. Define the network architecture using Keras\n",
        "d. Train the model using SGD with 11 epochs\n",
        "e. Evaluate the network\n",
        "f. Plot the training loss and accuracy\n",
        "```\n",
        "\n"
      ],
      "metadata": {
        "id": "vVyzUhVYC2it"
      }
    },
    {
      "cell_type": "markdown",
      "source": [
        "## **Import the necessary packages**"
      ],
      "metadata": {
        "id": "4dp2pRiWC9-i"
      }
    },
    {
      "cell_type": "code",
      "source": [
        "from sklearn.preprocessing import LabelBinarizer\n",
        "from sklearn.metrics import classification_report\n",
        "\n",
        "from tensorflow.keras.models import Sequential\n",
        "from tensorflow.keras.layers import Dense\n",
        "from tensorflow.keras.optimizers import SGD\n",
        "from tensorflow.keras.datasets import mnist\n",
        "from tensorflow.keras import backend as K\n",
        "\n",
        "\n",
        "import matplotlib.pyplot as plt\n",
        "import numpy as np"
      ],
      "metadata": {
        "id": "bGLWc_Ec-Rtj"
      },
      "execution_count": 19,
      "outputs": []
    },
    {
      "cell_type": "markdown",
      "source": [
        "## **Load training and testing data**"
      ],
      "metadata": {
        "id": "3oGCUqLoDFZ4"
      }
    },
    {
      "cell_type": "code",
      "source": [
        "((X_train, Y_train), (X_test, Y_test)) = mnist.load_data()"
      ],
      "metadata": {
        "colab": {
          "base_uri": "https://localhost:8080/"
        },
        "id": "b6QhlKU--57Q",
        "outputId": "f111d8ef-5234-48a4-ab9b-259a4ef05646"
      },
      "execution_count": 4,
      "outputs": [
        {
          "output_type": "stream",
          "name": "stdout",
          "text": [
            "Downloading data from https://storage.googleapis.com/tensorflow/tf-keras-datasets/mnist.npz\n",
            "\u001b[1m11490434/11490434\u001b[0m \u001b[32m━━━━━━━━━━━━━━━━━━━━\u001b[0m\u001b[37m\u001b[0m \u001b[1m0s\u001b[0m 0us/step\n"
          ]
        }
      ]
    },
    {
      "cell_type": "code",
      "source": [
        "X_train = X_train.reshape((X_train.shape[0], -1))\n",
        "X_test = X_test.reshape((X_test.shape[0], -1))\n",
        "\n",
        "X_train = X_train/255.0\n",
        "X_test = X_test/255.0"
      ],
      "metadata": {
        "id": "9LX5XH6K_GTp"
      },
      "execution_count": 5,
      "outputs": []
    },
    {
      "cell_type": "code",
      "source": [
        "lb = LabelBinarizer()"
      ],
      "metadata": {
        "id": "qdD9VKAq_dEV"
      },
      "execution_count": 6,
      "outputs": []
    },
    {
      "cell_type": "code",
      "source": [
        "Y_train = lb.fit_transform(Y_train)\n",
        "Y_test = lb.transform(Y_test)"
      ],
      "metadata": {
        "id": "sM-Vnpct_gAO"
      },
      "execution_count": 7,
      "outputs": []
    },
    {
      "cell_type": "markdown",
      "source": [
        "## **Defining network architecture using Keras**"
      ],
      "metadata": {
        "id": "fYqtRnu5DNRm"
      }
    },
    {
      "cell_type": "code",
      "source": [
        "model = Sequential()\n",
        "model.add(Dense(128, input_shape =(784,), activation=\"sigmoid\"))\n",
        "model.add(Dense(64, activation=\"sigmoid\"))\n",
        "model.add(Dense(10, activation=\"softmax\"))"
      ],
      "metadata": {
        "colab": {
          "base_uri": "https://localhost:8080/"
        },
        "id": "5P7f2AGa_onC",
        "outputId": "c823554a-9fd1-4ae5-8231-db564a0a903f"
      },
      "execution_count": 8,
      "outputs": [
        {
          "output_type": "stream",
          "name": "stderr",
          "text": [
            "/usr/local/lib/python3.10/dist-packages/keras/src/layers/core/dense.py:87: UserWarning: Do not pass an `input_shape`/`input_dim` argument to a layer. When using Sequential models, prefer using an `Input(shape)` object as the first layer in the model instead.\n",
            "  super().__init__(activity_regularizer=activity_regularizer, **kwargs)\n"
          ]
        }
      ]
    },
    {
      "cell_type": "markdown",
      "source": [
        "## **Train the model using SGD with 11 epochs**"
      ],
      "metadata": {
        "id": "-bPolwlFDUVm"
      }
    },
    {
      "cell_type": "code",
      "source": [
        "sgd = SGD(0.01)\n",
        "epochs = 11\n",
        "model.compile(loss=\"categorical_crossentropy\", optimizer=sgd, metrics=[\"accuracy\"])\n",
        "H = model.fit(X_train, Y_train, validation_data=(X_test, Y_test), epochs=epochs, batch_size=128)"
      ],
      "metadata": {
        "colab": {
          "base_uri": "https://localhost:8080/"
        },
        "id": "QBQ7csKg_8zE",
        "outputId": "01f4704f-bd97-4f9d-d9dc-d075981f1c0c"
      },
      "execution_count": 9,
      "outputs": [
        {
          "output_type": "stream",
          "name": "stdout",
          "text": [
            "Epoch 1/11\n",
            "\u001b[1m469/469\u001b[0m \u001b[32m━━━━━━━━━━━━━━━━━━━━\u001b[0m\u001b[37m\u001b[0m \u001b[1m4s\u001b[0m 5ms/step - accuracy: 0.1224 - loss: 2.3426 - val_accuracy: 0.2543 - val_loss: 2.2539\n",
            "Epoch 2/11\n",
            "\u001b[1m469/469\u001b[0m \u001b[32m━━━━━━━━━━━━━━━━━━━━\u001b[0m\u001b[37m\u001b[0m \u001b[1m3s\u001b[0m 7ms/step - accuracy: 0.2967 - loss: 2.2415 - val_accuracy: 0.4271 - val_loss: 2.1969\n",
            "Epoch 3/11\n",
            "\u001b[1m469/469\u001b[0m \u001b[32m━━━━━━━━━━━━━━━━━━━━\u001b[0m\u001b[37m\u001b[0m \u001b[1m2s\u001b[0m 4ms/step - accuracy: 0.4378 - loss: 2.1812 - val_accuracy: 0.5665 - val_loss: 2.1169\n",
            "Epoch 4/11\n",
            "\u001b[1m469/469\u001b[0m \u001b[32m━━━━━━━━━━━━━━━━━━━━\u001b[0m\u001b[37m\u001b[0m \u001b[1m3s\u001b[0m 6ms/step - accuracy: 0.5386 - loss: 2.0956 - val_accuracy: 0.5861 - val_loss: 2.0026\n",
            "Epoch 5/11\n",
            "\u001b[1m469/469\u001b[0m \u001b[32m━━━━━━━━━━━━━━━━━━━━\u001b[0m\u001b[37m\u001b[0m \u001b[1m5s\u001b[0m 5ms/step - accuracy: 0.5658 - loss: 1.9730 - val_accuracy: 0.6150 - val_loss: 1.8481\n",
            "Epoch 6/11\n",
            "\u001b[1m469/469\u001b[0m \u001b[32m━━━━━━━━━━━━━━━━━━━━\u001b[0m\u001b[37m\u001b[0m \u001b[1m5s\u001b[0m 10ms/step - accuracy: 0.6150 - loss: 1.8113 - val_accuracy: 0.6528 - val_loss: 1.6672\n",
            "Epoch 7/11\n",
            "\u001b[1m469/469\u001b[0m \u001b[32m━━━━━━━━━━━━━━━━━━━━\u001b[0m\u001b[37m\u001b[0m \u001b[1m3s\u001b[0m 6ms/step - accuracy: 0.6501 - loss: 1.6307 - val_accuracy: 0.6867 - val_loss: 1.4883\n",
            "Epoch 8/11\n",
            "\u001b[1m469/469\u001b[0m \u001b[32m━━━━━━━━━━━━━━━━━━━━\u001b[0m\u001b[37m\u001b[0m \u001b[1m3s\u001b[0m 7ms/step - accuracy: 0.6833 - loss: 1.4606 - val_accuracy: 0.7143 - val_loss: 1.3308\n",
            "Epoch 9/11\n",
            "\u001b[1m469/469\u001b[0m \u001b[32m━━━━━━━━━━━━━━━━━━━━\u001b[0m\u001b[37m\u001b[0m \u001b[1m2s\u001b[0m 5ms/step - accuracy: 0.7175 - loss: 1.3067 - val_accuracy: 0.7347 - val_loss: 1.1966\n",
            "Epoch 10/11\n",
            "\u001b[1m469/469\u001b[0m \u001b[32m━━━━━━━━━━━━━━━━━━━━\u001b[0m\u001b[37m\u001b[0m \u001b[1m4s\u001b[0m 8ms/step - accuracy: 0.7373 - loss: 1.1802 - val_accuracy: 0.7597 - val_loss: 1.0829\n",
            "Epoch 11/11\n",
            "\u001b[1m469/469\u001b[0m \u001b[32m━━━━━━━━━━━━━━━━━━━━\u001b[0m\u001b[37m\u001b[0m \u001b[1m5s\u001b[0m 7ms/step - accuracy: 0.7580 - loss: 1.0658 - val_accuracy: 0.7747 - val_loss: 0.9866\n"
          ]
        }
      ]
    },
    {
      "cell_type": "markdown",
      "source": [
        "## **Evaluate Network**"
      ],
      "metadata": {
        "id": "aARIGmM2AfNU"
      }
    },
    {
      "cell_type": "code",
      "source": [
        "predictions = model.predict(X_test, batch_size=128)\n",
        "print(classification_report(Y_test.argmax(axis=1), predictions.argmax(axis=1), target_names=[str(x) for x in lb.classes_]))"
      ],
      "metadata": {
        "colab": {
          "base_uri": "https://localhost:8080/"
        },
        "id": "eACKqVPSAcbe",
        "outputId": "90864ae6-efb2-4605-f60e-2d37444d2908"
      },
      "execution_count": 11,
      "outputs": [
        {
          "output_type": "stream",
          "name": "stdout",
          "text": [
            "\u001b[1m79/79\u001b[0m \u001b[32m━━━━━━━━━━━━━━━━━━━━\u001b[0m\u001b[37m\u001b[0m \u001b[1m0s\u001b[0m 5ms/step\n",
            "              precision    recall  f1-score   support\n",
            "\n",
            "           0       0.84      0.97      0.90       980\n",
            "           1       0.80      0.97      0.88      1135\n",
            "           2       0.81      0.75      0.78      1032\n",
            "           3       0.67      0.84      0.75      1010\n",
            "           4       0.71      0.75      0.73       982\n",
            "           5       0.78      0.48      0.60       892\n",
            "           6       0.87      0.88      0.87       958\n",
            "           7       0.81      0.86      0.83      1028\n",
            "           8       0.81      0.55      0.66       974\n",
            "           9       0.68      0.63      0.65      1009\n",
            "\n",
            "    accuracy                           0.77     10000\n",
            "   macro avg       0.78      0.77      0.76     10000\n",
            "weighted avg       0.78      0.77      0.77     10000\n",
            "\n"
          ]
        }
      ]
    },
    {
      "cell_type": "markdown",
      "source": [
        "## **Plot Training Loss and Accuracy**"
      ],
      "metadata": {
        "id": "ymA5e__oA6K7"
      }
    },
    {
      "cell_type": "code",
      "source": [
        "plt.style.use(\"ggplot\")\n",
        "plt.figure()\n",
        "\n",
        "plt.plot(np.arange(0, epochs), H.history['loss'], label=\"train_loss\")\n",
        "plt.plot(np.arange(0, epochs), H.history['val_loss'], label=\"val_loss\")\n",
        "plt.plot(np.arange(0, epochs), H.history[\"accuracy\"], label=\"accuracy\")\n",
        "plt.plot(np.arange(0, epochs), H.history[\"val_accuracy\"], label=\"val_accuracy\")\n",
        "\n",
        "\n",
        "plt.title(\"Training loss and Accuracy\")\n",
        "plt.xlabel(\"Epoch #\")\n",
        "plt.ylabel(\"Loss / Accuracy\")\n",
        "plt.legend()\n",
        "plt.show()"
      ],
      "metadata": {
        "colab": {
          "base_uri": "https://localhost:8080/",
          "height": 477
        },
        "id": "U7_4pLiaA11n",
        "outputId": "3bad0bc3-b710-497b-a118-660d56000975"
      },
      "execution_count": 18,
      "outputs": [
        {
          "output_type": "display_data",
          "data": {
            "text/plain": [
              "<Figure size 640x480 with 1 Axes>"
            ],
            "image/png": "[encoded data removed]"
          },
          "metadata": {}
        }
      ]
    },
    {
      "cell_type": "code",
      "source": [
        "pltpl"
      ],
      "metadata": {
        "id": "x3rz3XSRBkdo"
      },
      "execution_count": 13,
      "outputs": []
    }
  ]
}