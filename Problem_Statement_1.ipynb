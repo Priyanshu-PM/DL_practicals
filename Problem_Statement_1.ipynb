{
 "cells": [
  {
   "cell_type": "code",
   "execution_count": 3,
   "metadata": {
    "id": "9h2kbZ-x-EtG"
   },
   "outputs": [],
   "source": [
    "#Name : Priyanshu Mahukhaye\n",
    "#Roll : 43341"
   ]
  },
  {
   "cell_type": "markdown",
   "metadata": {
    "id": "04H9t0qYCGTF"
   },
   "source": [
    "# **Problem Statement 1**\n",
    "\n",
    "\n",
    "Feedforward Neural Network\n",
    "\n",
    "Implementing Feedforward neural networks with Keras and Tensorflow for classification of handwritten MNIST dataset using below steps"
   ]
  },
  {
   "cell_type": "markdown",
   "metadata": {
    "id": "vVyzUhVYC2it"
   },
   "source": [
    "\n",
    "\n",
    "```\n",
    "a. import the necessary packages\n",
    "b. Load the training and testing dataset\n",
    "c. Define the network architecture using Keras\n",
    "d. Train the model using SGD with 11 epochs\n",
    "e. Evaluate the network\n",
    "f. Plot the training loss and accuracy\n",
    "```\n",
    "\n"
   ]
  },
  {
   "cell_type": "markdown",
   "metadata": {
    "id": "4dp2pRiWC9-i"
   },
   "source": [
    "## **Import the necessary packages**"
   ]
  },
  {
   "cell_type": "code",
   "execution_count": 4,
   "metadata": {
    "id": "bGLWc_Ec-Rtj"
   },
   "outputs": [],
   "source": [
    "from sklearn.preprocessing import LabelBinarizer\n",
    "from sklearn.metrics import classification_report\n",
    "\n",
    "from tensorflow.keras.models import Sequential\n",
    "from tensorflow.keras.layers import Dense\n",
    "from tensorflow.keras.optimizers import SGD\n",
    "from tensorflow.keras.datasets import mnist\n",
    "from tensorflow.keras import backend as K\n",
    "\n",
    "\n",
    "import matplotlib.pyplot as plt\n",
    "import numpy as np"
   ]
  },
  {
   "cell_type": "markdown",
   "metadata": {
    "id": "3oGCUqLoDFZ4"
   },
   "source": [
    "## **Load training and testing data**"
   ]
  },
  {
   "cell_type": "code",
   "execution_count": 5,
   "metadata": {
    "colab": {
     "base_uri": "https://localhost:8080/"
    },
    "id": "b6QhlKU--57Q",
    "outputId": "f111d8ef-5234-48a4-ab9b-259a4ef05646"
   },
   "outputs": [
    {
     "name": "stdout",
     "output_type": "stream",
     "text": [
      "Downloading data from https://storage.googleapis.com/tensorflow/tf-keras-datasets/mnist.npz\n",
      "11493376/11490434 [==============================] - 5s 0us/step\n",
      "11501568/11490434 [==============================] - 5s 0us/step\n"
     ]
    }
   ],
   "source": [
    "((X_train, Y_train), (X_test, Y_test)) = mnist.load_data()"
   ]
  },
  {
   "cell_type": "code",
   "execution_count": 6,
   "metadata": {
    "id": "9LX5XH6K_GTp"
   },
   "outputs": [],
   "source": [
    "X_train = X_train.reshape((X_train.shape[0], -1))\n",
    "X_test = X_test.reshape((X_test.shape[0], -1))\n",
    "\n",
    "X_train = X_train/255.0\n",
    "X_test = X_test/255.0"
   ]
  },
  {
   "cell_type": "code",
   "execution_count": 7,
   "metadata": {
    "id": "qdD9VKAq_dEV"
   },
   "outputs": [],
   "source": [
    "lb = LabelBinarizer()"
   ]
  },
  {
   "cell_type": "code",
   "execution_count": 8,
   "metadata": {
    "id": "sM-Vnpct_gAO"
   },
   "outputs": [],
   "source": [
    "Y_train = lb.fit_transform(Y_train)\n",
    "Y_test = lb.transform(Y_test)"
   ]
  },
  {
   "cell_type": "markdown",
   "metadata": {
    "id": "fYqtRnu5DNRm"
   },
   "source": [
    "## **Defining network architecture using Keras**"
   ]
  },
  {
   "cell_type": "code",
   "execution_count": 9,
   "metadata": {
    "colab": {
     "base_uri": "https://localhost:8080/"
    },
    "id": "5P7f2AGa_onC",
    "outputId": "c823554a-9fd1-4ae5-8231-db564a0a903f"
   },
   "outputs": [],
   "source": [
    "model = Sequential()\n",
    "model.add(Dense(128, input_shape =(784,), activation=\"sigmoid\"))\n",
    "model.add(Dense(64, activation=\"sigmoid\"))\n",
    "model.add(Dense(10, activation=\"softmax\"))"
   ]
  },
  {
   "cell_type": "markdown",
   "metadata": {
    "id": "-bPolwlFDUVm"
   },
   "source": [
    "## **Train the model using SGD with 11 epochs**"
   ]
  },
  {
   "cell_type": "code",
   "execution_count": 10,
   "metadata": {
    "colab": {
     "base_uri": "https://localhost:8080/"
    },
    "id": "QBQ7csKg_8zE",
    "outputId": "01f4704f-bd97-4f9d-d9dc-d075981f1c0c"
   },
   "outputs": [
    {
     "name": "stdout",
     "output_type": "stream",
     "text": [
      "Epoch 1/11\n",
      "469/469 [==============================] - 3s 5ms/step - loss: 2.2951 - accuracy: 0.1401 - val_loss: 2.2600 - val_accuracy: 0.2221\n",
      "Epoch 2/11\n",
      "469/469 [==============================] - 2s 3ms/step - loss: 2.2358 - accuracy: 0.3222 - val_loss: 2.2061 - val_accuracy: 0.4213\n",
      "Epoch 3/11\n",
      "469/469 [==============================] - 1s 3ms/step - loss: 2.1745 - accuracy: 0.4587 - val_loss: 2.1337 - val_accuracy: 0.5850\n",
      "Epoch 4/11\n",
      "469/469 [==============================] - 1s 2ms/step - loss: 2.0887 - accuracy: 0.5485 - val_loss: 2.0293 - val_accuracy: 0.5959\n",
      "Epoch 5/11\n",
      "469/469 [==============================] - 1s 2ms/step - loss: 1.9662 - accuracy: 0.5890 - val_loss: 1.8836 - val_accuracy: 0.5954\n",
      "Epoch 6/11\n",
      "469/469 [==============================] - 1s 2ms/step - loss: 1.8024 - accuracy: 0.6165 - val_loss: 1.6992 - val_accuracy: 0.6338\n",
      "Epoch 7/11\n",
      "469/469 [==============================] - 1s 2ms/step - loss: 1.6101 - accuracy: 0.6467 - val_loss: 1.4994 - val_accuracy: 0.6879\n",
      "Epoch 8/11\n",
      "469/469 [==============================] - 1s 3ms/step - loss: 1.4173 - accuracy: 0.6843 - val_loss: 1.3149 - val_accuracy: 0.6856\n",
      "Epoch 9/11\n",
      "469/469 [==============================] - 1s 3ms/step - loss: 1.2487 - accuracy: 0.7100 - val_loss: 1.1624 - val_accuracy: 0.7257\n",
      "Epoch 10/11\n",
      "469/469 [==============================] - 1s 3ms/step - loss: 1.1133 - accuracy: 0.7378 - val_loss: 1.0433 - val_accuracy: 0.7484\n",
      "Epoch 11/11\n",
      "469/469 [==============================] - 1s 2ms/step - loss: 1.0076 - accuracy: 0.7581 - val_loss: 0.9503 - val_accuracy: 0.7736\n"
     ]
    }
   ],
   "source": [
    "sgd = SGD(0.01)\n",
    "epochs = 11\n",
    "model.compile(loss=\"categorical_crossentropy\", optimizer=sgd, metrics=[\"accuracy\"])\n",
    "H = model.fit(X_train, Y_train, validation_data=(X_test, Y_test), epochs=epochs, batch_size=128)"
   ]
  },
  {
   "cell_type": "markdown",
   "metadata": {
    "id": "aARIGmM2AfNU"
   },
   "source": [
    "## **Evaluate Network**"
   ]
  },
  {
   "cell_type": "code",
   "execution_count": 11,
   "metadata": {
    "colab": {
     "base_uri": "https://localhost:8080/"
    },
    "id": "eACKqVPSAcbe",
    "outputId": "90864ae6-efb2-4605-f60e-2d37444d2908"
   },
   "outputs": [
    {
     "name": "stdout",
     "output_type": "stream",
     "text": [
      "              precision    recall  f1-score   support\n",
      "\n",
      "           0       0.84      0.97      0.90       980\n",
      "           1       0.81      0.97      0.89      1135\n",
      "           2       0.85      0.72      0.78      1032\n",
      "           3       0.67      0.84      0.75      1010\n",
      "           4       0.68      0.81      0.74       982\n",
      "           5       0.83      0.45      0.59       892\n",
      "           6       0.85      0.90      0.87       958\n",
      "           7       0.75      0.86      0.81      1028\n",
      "           8       0.81      0.62      0.70       974\n",
      "           9       0.70      0.52      0.60      1009\n",
      "\n",
      "    accuracy                           0.77     10000\n",
      "   macro avg       0.78      0.77      0.76     10000\n",
      "weighted avg       0.78      0.77      0.76     10000\n",
      "\n"
     ]
    }
   ],
   "source": [
    "predictions = model.predict(X_test, batch_size=128)\n",
    "print(classification_report(Y_test.argmax(axis=1), predictions.argmax(axis=1), target_names=[str(x) for x in lb.classes_]))"
   ]
  },
  {
   "cell_type": "markdown",
   "metadata": {
    "id": "ymA5e__oA6K7"
   },
   "source": [
    "## **Plot Training Loss and Accuracy**"
   ]
  },
  {
   "cell_type": "code",
   "execution_count": 12,
   "metadata": {
    "colab": {
     "base_uri": "https://localhost:8080/",
     "height": 477
    },
    "id": "U7_4pLiaA11n",
    "outputId": "3bad0bc3-b710-497b-a118-660d56000975"
   },
   "outputs": [
    {
     "data": {
      "image/png": "[encoded data removed]",
      "text/plain": [
       "<Figure size 432x288 with 1 Axes>"
      ]
     },
     "metadata": {},
     "output_type": "display_data"
    }
   ],
   "source": [
    "plt.style.use(\"ggplot\")\n",
    "plt.figure()\n",
    "\n",
    "plt.plot(np.arange(0, epochs), H.history['loss'], label=\"train_loss\")\n",
    "plt.plot(np.arange(0, epochs), H.history['val_loss'], label=\"val_loss\")\n",
    "plt.plot(np.arange(0, epochs), H.history[\"accuracy\"], label=\"accuracy\")\n",
    "plt.plot(np.arange(0, epochs), H.history[\"val_accuracy\"], label=\"val_accuracy\")\n",
    "\n",
    "\n",
    "plt.title(\"Training loss and Accuracy\")\n",
    "plt.xlabel(\"Epoch #\")\n",
    "plt.ylabel(\"Loss / Accuracy\")\n",
    "plt.legend()\n",
    "plt.show()"
   ]
  }
 ],
 "metadata": {
  "colab": {
   "provenance": []
  },
  "kernelspec": {
   "display_name": "Python 3",
   "name": "python3"
  },
  "language_info": {
   "codemirror_mode": {
    "name": "ipython",
    "version": 3
   },
   "file_extension": ".py",
   "mimetype": "text/x-python",
   "name": "python",
   "nbconvert_exporter": "python",
   "pygments_lexer": "ipython3",
   "version": "3.9.7"
  }
 },
 "nbformat": 4,
 "nbformat_minor": 0
}
