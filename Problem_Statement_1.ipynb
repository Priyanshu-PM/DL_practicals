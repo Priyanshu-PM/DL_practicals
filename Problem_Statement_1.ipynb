{
 "cells": [
  {
   "cell_type": "code",
   "execution_count": 1,
   "metadata": {
    "id": "9h2kbZ-x-EtG"
   },
   "outputs": [],
   "source": [
    "#Name : Priyanshu Mahukhaye\n",
    "#Roll : 43341"
   ]
  },
  {
   "cell_type": "markdown",
   "metadata": {
    "id": "04H9t0qYCGTF"
   },
   "source": [
    "# **Problem Statement 1**\n",
    "\n",
    "\n",
    "Feedforward Neural Network\n",
    "\n",
    "Implementing Feedforward neural networks with Keras and Tensorflow for classification of handwritten MNIST dataset using below steps"
   ]
  },
  {
   "cell_type": "markdown",
   "metadata": {
    "id": "vVyzUhVYC2it"
   },
   "source": [
    "\n",
    "\n",
    "```\n",
    "a. import the necessary packages\n",
    "b. Load the training and testing dataset\n",
    "c. Define the network architecture using Keras\n",
    "d. Train the model using SGD with 11 epochs\n",
    "e. Evaluate the network\n",
    "f. Plot the training loss and accuracy\n",
    "```\n",
    "\n"
   ]
  },
  {
   "cell_type": "markdown",
   "metadata": {
    "id": "4dp2pRiWC9-i"
   },
   "source": [
    "## **Import the necessary packages**"
   ]
  },
  {
   "cell_type": "code",
   "execution_count": 2,
   "metadata": {
    "id": "bGLWc_Ec-Rtj"
   },
   "outputs": [],
   "source": [
    "from sklearn.preprocessing import LabelBinarizer\n",
    "from sklearn.metrics import classification_report\n",
    "\n",
    "from tensorflow.keras.models import Sequential\n",
    "from tensorflow.keras.layers import Dense\n",
    "from tensorflow.keras.optimizers import SGD\n",
    "from tensorflow.keras.datasets import mnist\n",
    "from tensorflow.keras import backend as K\n",
    "\n",
    "\n",
    "import matplotlib.pyplot as plt\n",
    "import numpy as np"
   ]
  },
  {
   "cell_type": "markdown",
   "metadata": {
    "id": "3oGCUqLoDFZ4"
   },
   "source": [
    "## **Load training and testing data**"
   ]
  },
  {
   "cell_type": "code",
   "execution_count": 3,
   "metadata": {
    "colab": {
     "base_uri": "https://localhost:8080/"
    },
    "id": "b6QhlKU--57Q",
    "outputId": "f111d8ef-5234-48a4-ab9b-259a4ef05646"
   },
   "outputs": [],
   "source": [
    "((X_train, Y_train), (X_test, Y_test)) = mnist.load_data()"
   ]
  },
  {
   "cell_type": "code",
   "execution_count": 4,
   "metadata": {
    "id": "9LX5XH6K_GTp"
   },
   "outputs": [],
   "source": [
    "X_train = X_train.reshape((X_train.shape[0], -1))\n",
    "X_test = X_test.reshape((X_test.shape[0], -1))\n",
    "\n",
    "X_train = X_train/255.0\n",
    "X_test = X_test/255.0"
   ]
  },
  {
   "cell_type": "code",
   "execution_count": 5,
   "metadata": {
    "id": "qdD9VKAq_dEV"
   },
   "outputs": [],
   "source": [
    "lb = LabelBinarizer()"
   ]
  },
  {
   "cell_type": "code",
   "execution_count": 6,
   "metadata": {
    "id": "sM-Vnpct_gAO"
   },
   "outputs": [],
   "source": [
    "Y_train = lb.fit_transform(Y_train)\n",
    "Y_test = lb.transform(Y_test)"
   ]
  },
  {
   "cell_type": "markdown",
   "metadata": {
    "id": "fYqtRnu5DNRm"
   },
   "source": [
    "## **Defining network architecture using Keras**"
   ]
  },
  {
   "cell_type": "code",
   "execution_count": 7,
   "metadata": {
    "colab": {
     "base_uri": "https://localhost:8080/"
    },
    "id": "5P7f2AGa_onC",
    "outputId": "c823554a-9fd1-4ae5-8231-db564a0a903f"
   },
   "outputs": [],
   "source": [
    "model = Sequential()\n",
    "model.add(Dense(128, input_shape =(784,), activation=\"sigmoid\"))\n",
    "model.add(Dense(64, activation=\"sigmoid\"))\n",
    "model.add(Dense(10, activation=\"softmax\"))"
   ]
  },
  {
   "cell_type": "markdown",
   "metadata": {
    "id": "-bPolwlFDUVm"
   },
   "source": [
    "## **Train the model using SGD with 11 epochs**"
   ]
  },
  {
   "cell_type": "code",
   "execution_count": 8,
   "metadata": {
    "colab": {
     "base_uri": "https://localhost:8080/"
    },
    "id": "QBQ7csKg_8zE",
    "outputId": "01f4704f-bd97-4f9d-d9dc-d075981f1c0c"
   },
   "outputs": [
    {
     "name": "stdout",
     "output_type": "stream",
     "text": [
      "Epoch 1/11\n",
      "469/469 [==============================] - 2s 3ms/step - loss: 2.3046 - accuracy: 0.1371 - val_loss: 2.2650 - val_accuracy: 0.2871\n",
      "Epoch 2/11\n",
      "469/469 [==============================] - 1s 2ms/step - loss: 2.2439 - accuracy: 0.2979 - val_loss: 2.2173 - val_accuracy: 0.3312\n",
      "Epoch 3/11\n",
      "469/469 [==============================] - 1s 2ms/step - loss: 2.1901 - accuracy: 0.4279 - val_loss: 2.1531 - val_accuracy: 0.5112\n",
      "Epoch 4/11\n",
      "469/469 [==============================] - 1s 2ms/step - loss: 2.1141 - accuracy: 0.5276 - val_loss: 2.0608 - val_accuracy: 0.5511\n",
      "Epoch 5/11\n",
      "469/469 [==============================] - 1s 2ms/step - loss: 2.0035 - accuracy: 0.5781 - val_loss: 1.9268 - val_accuracy: 0.6357\n",
      "Epoch 6/11\n",
      "469/469 [==============================] - 1s 2ms/step - loss: 1.8507 - accuracy: 0.6252 - val_loss: 1.7525 - val_accuracy: 0.6424\n",
      "Epoch 7/11\n",
      "469/469 [==============================] - 1s 2ms/step - loss: 1.6676 - accuracy: 0.6512 - val_loss: 1.5621 - val_accuracy: 0.6581\n",
      "Epoch 8/11\n",
      "469/469 [==============================] - 1s 2ms/step - loss: 1.4830 - accuracy: 0.6785 - val_loss: 1.3851 - val_accuracy: 0.7065\n",
      "Epoch 9/11\n",
      "469/469 [==============================] - 1s 2ms/step - loss: 1.3201 - accuracy: 0.7079 - val_loss: 1.2364 - val_accuracy: 0.7385\n",
      "Epoch 10/11\n",
      "469/469 [==============================] - 1s 2ms/step - loss: 1.1845 - accuracy: 0.7334 - val_loss: 1.1140 - val_accuracy: 0.7459\n",
      "Epoch 11/11\n",
      "469/469 [==============================] - 1s 3ms/step - loss: 1.0733 - accuracy: 0.7549 - val_loss: 1.0126 - val_accuracy: 0.7641\n"
     ]
    }
   ],
   "source": [
    "sgd = SGD(0.01)\n",
    "epochs = 11\n",
    "model.compile(loss=\"categorical_crossentropy\", optimizer=sgd, metrics=[\"accuracy\"])\n",
    "H = model.fit(X_train, Y_train, validation_data=(X_test, Y_test), epochs=epochs, batch_size=128)"
   ]
  },
  {
   "cell_type": "markdown",
   "metadata": {
    "id": "aARIGmM2AfNU"
   },
   "source": [
    "## **Evaluate Network**"
   ]
  },
  {
   "cell_type": "code",
   "execution_count": 9,
   "metadata": {
    "colab": {
     "base_uri": "https://localhost:8080/"
    },
    "id": "eACKqVPSAcbe",
    "outputId": "90864ae6-efb2-4605-f60e-2d37444d2908"
   },
   "outputs": [
    {
     "name": "stdout",
     "output_type": "stream",
     "text": [
      "              precision    recall  f1-score   support\n",
      "\n",
      "           0       0.80      0.96      0.87       980\n",
      "           1       0.78      0.99      0.87      1135\n",
      "           2       0.78      0.68      0.73      1032\n",
      "           3       0.68      0.85      0.75      1010\n",
      "           4       0.70      0.90      0.79       982\n",
      "           5       0.86      0.41      0.55       892\n",
      "           6       0.84      0.90      0.87       958\n",
      "           7       0.70      0.88      0.78      1028\n",
      "           8       0.81      0.56      0.67       974\n",
      "           9       0.83      0.46      0.59      1009\n",
      "\n",
      "    accuracy                           0.76     10000\n",
      "   macro avg       0.78      0.76      0.75     10000\n",
      "weighted avg       0.78      0.76      0.75     10000\n",
      "\n"
     ]
    }
   ],
   "source": [
    "predictions = model.predict(X_test, batch_size=128)\n",
    "print(classification_report(Y_test.argmax(axis=1), predictions.argmax(axis=1), target_names=[str(x) for x in lb.classes_]))"
   ]
  },
  {
   "cell_type": "markdown",
   "metadata": {
    "id": "ymA5e__oA6K7"
   },
   "source": [
    "## **Plot Training Loss and Accuracy**"
   ]
  },
  {
   "cell_type": "code",
   "execution_count": 10,
   "metadata": {
    "colab": {
     "base_uri": "https://localhost:8080/",
     "height": 477
    },
    "id": "U7_4pLiaA11n",
    "outputId": "3bad0bc3-b710-497b-a118-660d56000975"
   },
   "outputs": [
    {
     "data": {
      "image/png": "[encoded data removed]",
      "text/plain": [
       "<Figure size 432x288 with 1 Axes>"
      ]
     },
     "metadata": {},
     "output_type": "display_data"
    }
   ],
   "source": [
    "plt.style.use(\"ggplot\")\n",
    "plt.figure()\n",
    "\n",
    "plt.plot(np.arange(0, epochs), H.history['loss'], label=\"train_loss\")\n",
    "plt.plot(np.arange(0, epochs), H.history['val_loss'], label=\"val_loss\")\n",
    "plt.plot(np.arange(0, epochs), H.history[\"accuracy\"], label=\"accuracy\")\n",
    "plt.plot(np.arange(0, epochs), H.history[\"val_accuracy\"], label=\"val_accuracy\")\n",
    "\n",
    "\n",
    "plt.title(\"Training loss and Accuracy\")\n",
    "plt.xlabel(\"Epoch #\")\n",
    "plt.ylabel(\"Loss / Accuracy\")\n",
    "plt.legend()\n",
    "plt.show()"
   ]
  }
 ],
 "metadata": {
  "colab": {
   "provenance": []
  },
  "kernelspec": {
   "display_name": "Python 3",
   "name": "python3"
  },
  "language_info": {
   "codemirror_mode": {
    "name": "ipython",
    "version": 3
   },
   "file_extension": ".py",
   "mimetype": "text/x-python",
   "name": "python",
   "nbconvert_exporter": "python",
   "pygments_lexer": "ipython3",
   "version": "3.9.7"
  }
 },
 "nbformat": 4,
 "nbformat_minor": 0
}
