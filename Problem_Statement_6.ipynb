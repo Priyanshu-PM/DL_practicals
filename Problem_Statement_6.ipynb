{
 "cells": [
  {
   "cell_type": "markdown",
   "id": "fcf44ab6-9fb5-499d-a114-68601db3d6bb",
   "metadata": {
    "id": "fcf44ab6-9fb5-499d-a114-68601db3d6bb"
   },
   "source": [
    "## Problem Statement 6\n",
    "\n",
    "### Implement the Continuous Bag of Words (CBOW) Model for the given (textual document 1) using the below steps:\n",
    "    a. Data preparation\n",
    "    b. Generate training data\n",
    "    c. Train model\n",
    "    d. Output"
   ]
  },
  {
   "cell_type": "markdown",
   "id": "4ab0f63e-d219-4ed6-92ab-09589661f38d",
   "metadata": {
    "id": "4ab0f63e-d219-4ed6-92ab-09589661f38d"
   },
   "source": [
    "### Import necessary packages"
   ]
  },
  {
   "cell_type": "code",
   "execution_count": 5,
   "id": "314fadb8-fd25-46e0-8512-a6371e62fbf5",
   "metadata": {
    "id": "314fadb8-fd25-46e0-8512-a6371e62fbf5"
   },
   "outputs": [],
   "source": [
    "from keras.preprocessing import text\n",
    "from keras.preprocessing import sequence\n",
    "from keras.preprocessing.text import Tokenizer\n",
    "from keras.preprocessing.sequence import pad_sequences\n",
    "from keras.utils import np_utils\n",
    "\n",
    "from keras import backend as K\n",
    "from keras.models import Sequential\n",
    "from keras.layers import Dense, Embedding, Lambda\n",
    "\n",
    "from sklearn.metrics.pairwise import euclidean_distances\n",
    "\n",
    "import numpy as np\n",
    "import pandas as pd"
   ]
  },
  {
   "cell_type": "code",
   "execution_count": 6,
   "id": "4e6fdb97-36cd-4b62-a961-fd5d4fc627a1",
   "metadata": {
    "id": "4e6fdb97-36cd-4b62-a961-fd5d4fc627a1"
   },
   "outputs": [],
   "source": [
    "data = \"\"\"Deep learning (also known as deep structured learning) is part of a\n",
    "broader family of machine learning methods based on artificial neural networks\n",
    "with representation learning. Learning can be supervised, semi-supervised or unsupervised.\n",
    "Deep-learning architectures such as deep neural networks, deep belief networks,\n",
    "deep reinforcement learning, recurrent neural networks, convolutional neural networks and\n",
    "Transformers have been applied to fields including computer vision, speech recognition,\n",
    "natural language processing, machine translation, bioinformatics, drug design,\n",
    "medical image analysis, climate science, material inspection and board game programs,\n",
    "where they have produced results comparable to and in some cases surpassing human expert performance.\n",
    "\"\"\"\n",
    "dl_data = data.split()"
   ]
  },
  {
   "cell_type": "markdown",
   "id": "1c2f1a60-aba8-4af0-89c2-2ecb767fd2ba",
   "metadata": {
    "id": "1c2f1a60-aba8-4af0-89c2-2ecb767fd2ba"
   },
   "source": [
    "### a. Data preparation"
   ]
  },
  {
   "cell_type": "code",
   "execution_count": 7,
   "id": "a15d3358-6c24-41b4-b601-d095e81eb3d2",
   "metadata": {
    "id": "a15d3358-6c24-41b4-b601-d095e81eb3d2",
    "outputId": "0e09cbc6-e4fd-42ab-9a21-f450c291320c"
   },
   "outputs": [
    {
     "name": "stdout",
     "output_type": "stream",
     "text": [
      "Vocabulary size:  75\n",
      "Vocabulary Sample:  [('learning', 1), ('deep', 2), ('networks', 3), ('neural', 4), ('and', 5), ('as', 6), ('of', 7), ('machine', 8), ('supervised', 9), ('have', 10)]\n"
     ]
    }
   ],
   "source": [
    "tokenizer=Tokenizer()\n",
    "tokenizer.fit_on_texts(dl_data)\n",
    "\n",
    "words2id=tokenizer.word_index\n",
    "words2id['PAD']=0\n",
    "\n",
    "id2words={v:k for k,v in words2id.items()}\n",
    "\n",
    "wids=[[words2id[w] for w in text.text_to_word_sequence(doc)] for doc in dl_data]\n",
    "\n",
    "vocab_size=len(words2id)\n",
    "embed_size=100\n",
    "window_size=2\n",
    "\n",
    "print(\"Vocabulary size: \", vocab_size)\n",
    "print(\"Vocabulary Sample: \", list(words2id.items())[:10])"
   ]
  },
  {
   "cell_type": "markdown",
   "id": "9b1ce980-6085-45a5-b9f7-40a0dfb08dd5",
   "metadata": {
    "id": "9b1ce980-6085-45a5-b9f7-40a0dfb08dd5"
   },
   "source": [
    "### b. Generate training data"
   ]
  },
  {
   "cell_type": "code",
   "execution_count": 8,
   "id": "39980ab0-1c6d-4798-be07-cf807233c4f3",
   "metadata": {
    "id": "39980ab0-1c6d-4798-be07-cf807233c4f3"
   },
   "outputs": [],
   "source": [
    "def generate_context_word_pair(corpus, window_size, vocab_size):\n",
    "    context_length=window_size*2\n",
    "\n",
    "    for words in corpus:\n",
    "        sentence_length = len(words)\n",
    "\n",
    "        for index, word in enumerate(words):\n",
    "            context_words = []\n",
    "            label_word = []\n",
    "            start = index - window_size\n",
    "            end = index + window_size + 1\n",
    "\n",
    "            context_words.append([words[i]\n",
    "                                 for i in range(start, end)\n",
    "                                 if 0 <=i <sentence_length\n",
    "                                 and i!= index])\n",
    "            label_word.append(word)\n",
    "\n",
    "            x = pad_sequences(context_words, maxlen = context_length)\n",
    "            y = np_utils.to_categorical(label_word, vocab_size)\n",
    "            yield (x,y)\n",
    "\n"
   ]
  },
  {
   "cell_type": "markdown",
   "id": "bd8a3a65-423a-4c68-8e47-edec1553b3d4",
   "metadata": {
    "id": "bd8a3a65-423a-4c68-8e47-edec1553b3d4"
   },
   "source": [
    "### c. Train Model"
   ]
  },
  {
   "cell_type": "code",
   "execution_count": 9,
   "id": "e8f1a8f7-cbea-4e7f-9e82-0052ea973522",
   "metadata": {
    "id": "e8f1a8f7-cbea-4e7f-9e82-0052ea973522",
    "outputId": "79a08d3d-bd64-4ba3-e0b4-9bef8f34b709"
   },
   "outputs": [
    {
     "name": "stdout",
     "output_type": "stream",
     "text": [
      "Model: \"sequential\"\n",
      "_________________________________________________________________\n",
      " Layer (type)                Output Shape              Param #   \n",
      "=================================================================\n",
      " embedding (Embedding)       (None, 4, 100)            7500      \n",
      "                                                                 \n",
      " lambda (Lambda)             (None, 100)               0         \n",
      "                                                                 \n",
      " dense (Dense)               (None, 75)                7575      \n",
      "                                                                 \n",
      "=================================================================\n",
      "Total params: 15,075\n",
      "Trainable params: 15,075\n",
      "Non-trainable params: 0\n",
      "_________________________________________________________________\n",
      "None\n"
     ]
    }
   ],
   "source": [
    "cbow=Sequential()\n",
    "cbow.add(Embedding(input_dim=vocab_size, output_dim=embed_size, input_length=window_size*2))\n",
    "cbow.add(Lambda(lambda x:K.mean(x, axis=1), output_shape=(embed_size,)))\n",
    "cbow.add(Dense(vocab_size, activation=\"softmax\"))\n",
    "\n",
    "\n",
    "cbow.compile(loss=\"categorical_crossentropy\", optimizer=\"rmsprop\")\n",
    "print(cbow.summary())"
   ]
  },
  {
   "cell_type": "code",
   "execution_count": 10,
   "id": "8341e043-ca07-41a7-aa31-b3e4f35ce2dc",
   "metadata": {
    "id": "8341e043-ca07-41a7-aa31-b3e4f35ce2dc",
    "outputId": "b29a5a07-c3f6-41aa-a969-12bece11426f"
   },
   "outputs": [
    {
     "name": "stdout",
     "output_type": "stream",
     "text": [
      "Epoch: 1 \tLoss: 434.23626804351807\n",
      "\n",
      "Epoch: 2 \tLoss: 429.23753786087036\n",
      "\n",
      "Epoch: 3 \tLoss: 425.6741223335266\n",
      "\n",
      "Epoch: 4 \tLoss: 422.3146245479584\n",
      "\n",
      "Epoch: 5 \tLoss: 419.79110407829285\n",
      "\n"
     ]
    }
   ],
   "source": [
    "for epoch in range(1,6):\n",
    "    loss=0\n",
    "    i=0\n",
    "\n",
    "    for x,y in generate_context_word_pair(corpus=wids, window_size=window_size, vocab_size=vocab_size):\n",
    "        i+=1\n",
    "        loss+=cbow.train_on_batch(x,y)\n",
    "        if i % 100000 == 0:\n",
    "            print('Processed {} (context, word) pairs'.format(i))\n",
    "\n",
    "    print('Epoch:',epoch, '\\tLoss:', loss)\n",
    "    print()\n",
    "\n"
   ]
  },
  {
   "cell_type": "code",
   "execution_count": 11,
   "id": "5cbe847f-8fcf-4e34-af09-28da1fc2b3e0",
   "metadata": {
    "id": "5cbe847f-8fcf-4e34-af09-28da1fc2b3e0",
    "outputId": "74dd9722-efa0-470b-b96e-f90e9216fbfe"
   },
   "outputs": [
    {
     "name": "stdout",
     "output_type": "stream",
     "text": [
      "(74, 100)\n"
     ]
    },
    {
     "data": {
      "text/html": [
       "<div>\n",
       "<style scoped>\n",
       "    .dataframe tbody tr th:only-of-type {\n",
       "        vertical-align: middle;\n",
       "    }\n",
       "\n",
       "    .dataframe tbody tr th {\n",
       "        vertical-align: top;\n",
       "    }\n",
       "\n",
       "    .dataframe thead th {\n",
       "        text-align: right;\n",
       "    }\n",
       "</style>\n",
       "<table border=\"1\" class=\"dataframe\">\n",
       "  <thead>\n",
       "    <tr style=\"text-align: right;\">\n",
       "      <th></th>\n",
       "      <th>0</th>\n",
       "      <th>1</th>\n",
       "      <th>2</th>\n",
       "      <th>3</th>\n",
       "      <th>4</th>\n",
       "      <th>5</th>\n",
       "      <th>6</th>\n",
       "      <th>7</th>\n",
       "      <th>8</th>\n",
       "      <th>9</th>\n",
       "      <th>...</th>\n",
       "      <th>90</th>\n",
       "      <th>91</th>\n",
       "      <th>92</th>\n",
       "      <th>93</th>\n",
       "      <th>94</th>\n",
       "      <th>95</th>\n",
       "      <th>96</th>\n",
       "      <th>97</th>\n",
       "      <th>98</th>\n",
       "      <th>99</th>\n",
       "    </tr>\n",
       "  </thead>\n",
       "  <tbody>\n",
       "    <tr>\n",
       "      <th>deep</th>\n",
       "      <td>-0.015630</td>\n",
       "      <td>0.060666</td>\n",
       "      <td>-0.006925</td>\n",
       "      <td>0.012304</td>\n",
       "      <td>0.007216</td>\n",
       "      <td>-0.009098</td>\n",
       "      <td>0.012355</td>\n",
       "      <td>0.061362</td>\n",
       "      <td>0.031274</td>\n",
       "      <td>-0.050026</td>\n",
       "      <td>...</td>\n",
       "      <td>-0.009281</td>\n",
       "      <td>-0.010069</td>\n",
       "      <td>-0.028608</td>\n",
       "      <td>0.029703</td>\n",
       "      <td>0.056208</td>\n",
       "      <td>-0.017927</td>\n",
       "      <td>-0.026966</td>\n",
       "      <td>0.010226</td>\n",
       "      <td>0.054954</td>\n",
       "      <td>-0.031233</td>\n",
       "    </tr>\n",
       "    <tr>\n",
       "      <th>networks</th>\n",
       "      <td>0.045897</td>\n",
       "      <td>-0.013697</td>\n",
       "      <td>0.031511</td>\n",
       "      <td>0.027852</td>\n",
       "      <td>-0.035291</td>\n",
       "      <td>-0.007903</td>\n",
       "      <td>0.004157</td>\n",
       "      <td>0.015570</td>\n",
       "      <td>0.065559</td>\n",
       "      <td>0.026669</td>\n",
       "      <td>...</td>\n",
       "      <td>-0.045831</td>\n",
       "      <td>-0.015098</td>\n",
       "      <td>-0.055646</td>\n",
       "      <td>-0.007218</td>\n",
       "      <td>0.006770</td>\n",
       "      <td>-0.003054</td>\n",
       "      <td>-0.027773</td>\n",
       "      <td>-0.012163</td>\n",
       "      <td>0.027630</td>\n",
       "      <td>-0.062146</td>\n",
       "    </tr>\n",
       "    <tr>\n",
       "      <th>neural</th>\n",
       "      <td>0.029271</td>\n",
       "      <td>-0.032125</td>\n",
       "      <td>-0.042396</td>\n",
       "      <td>-0.035244</td>\n",
       "      <td>-0.046477</td>\n",
       "      <td>-0.014111</td>\n",
       "      <td>0.002366</td>\n",
       "      <td>-0.000009</td>\n",
       "      <td>-0.024210</td>\n",
       "      <td>-0.000592</td>\n",
       "      <td>...</td>\n",
       "      <td>-0.010499</td>\n",
       "      <td>0.027931</td>\n",
       "      <td>0.031971</td>\n",
       "      <td>0.049539</td>\n",
       "      <td>-0.044071</td>\n",
       "      <td>0.006587</td>\n",
       "      <td>0.024373</td>\n",
       "      <td>0.030428</td>\n",
       "      <td>0.008566</td>\n",
       "      <td>-0.008183</td>\n",
       "    </tr>\n",
       "    <tr>\n",
       "      <th>and</th>\n",
       "      <td>-0.016201</td>\n",
       "      <td>0.036867</td>\n",
       "      <td>0.005533</td>\n",
       "      <td>0.043987</td>\n",
       "      <td>0.026676</td>\n",
       "      <td>-0.037311</td>\n",
       "      <td>-0.039743</td>\n",
       "      <td>-0.016887</td>\n",
       "      <td>-0.003169</td>\n",
       "      <td>0.024882</td>\n",
       "      <td>...</td>\n",
       "      <td>-0.040443</td>\n",
       "      <td>-0.033773</td>\n",
       "      <td>0.034780</td>\n",
       "      <td>-0.033097</td>\n",
       "      <td>0.041941</td>\n",
       "      <td>-0.000294</td>\n",
       "      <td>0.007498</td>\n",
       "      <td>0.001366</td>\n",
       "      <td>0.048161</td>\n",
       "      <td>-0.004407</td>\n",
       "    </tr>\n",
       "    <tr>\n",
       "      <th>as</th>\n",
       "      <td>0.026542</td>\n",
       "      <td>-0.017806</td>\n",
       "      <td>-0.037797</td>\n",
       "      <td>-0.042589</td>\n",
       "      <td>-0.006078</td>\n",
       "      <td>0.014452</td>\n",
       "      <td>0.004903</td>\n",
       "      <td>-0.020666</td>\n",
       "      <td>-0.005896</td>\n",
       "      <td>0.035851</td>\n",
       "      <td>...</td>\n",
       "      <td>0.036520</td>\n",
       "      <td>0.018890</td>\n",
       "      <td>0.000166</td>\n",
       "      <td>0.045780</td>\n",
       "      <td>-0.030948</td>\n",
       "      <td>0.028548</td>\n",
       "      <td>0.038360</td>\n",
       "      <td>0.009921</td>\n",
       "      <td>-0.009759</td>\n",
       "      <td>0.041904</td>\n",
       "    </tr>\n",
       "  </tbody>\n",
       "</table>\n",
       "<p>5 rows × 100 columns</p>\n",
       "</div>"
      ],
      "text/plain": [
       "                0         1         2         3         4         5   \\\n",
       "deep     -0.015630  0.060666 -0.006925  0.012304  0.007216 -0.009098   \n",
       "networks  0.045897 -0.013697  0.031511  0.027852 -0.035291 -0.007903   \n",
       "neural    0.029271 -0.032125 -0.042396 -0.035244 -0.046477 -0.014111   \n",
       "and      -0.016201  0.036867  0.005533  0.043987  0.026676 -0.037311   \n",
       "as        0.026542 -0.017806 -0.037797 -0.042589 -0.006078  0.014452   \n",
       "\n",
       "                6         7         8         9   ...        90        91  \\\n",
       "deep      0.012355  0.061362  0.031274 -0.050026  ... -0.009281 -0.010069   \n",
       "networks  0.004157  0.015570  0.065559  0.026669  ... -0.045831 -0.015098   \n",
       "neural    0.002366 -0.000009 -0.024210 -0.000592  ... -0.010499  0.027931   \n",
       "and      -0.039743 -0.016887 -0.003169  0.024882  ... -0.040443 -0.033773   \n",
       "as        0.004903 -0.020666 -0.005896  0.035851  ...  0.036520  0.018890   \n",
       "\n",
       "                92        93        94        95        96        97  \\\n",
       "deep     -0.028608  0.029703  0.056208 -0.017927 -0.026966  0.010226   \n",
       "networks -0.055646 -0.007218  0.006770 -0.003054 -0.027773 -0.012163   \n",
       "neural    0.031971  0.049539 -0.044071  0.006587  0.024373  0.030428   \n",
       "and       0.034780 -0.033097  0.041941 -0.000294  0.007498  0.001366   \n",
       "as        0.000166  0.045780 -0.030948  0.028548  0.038360  0.009921   \n",
       "\n",
       "                98        99  \n",
       "deep      0.054954 -0.031233  \n",
       "networks  0.027630 -0.062146  \n",
       "neural    0.008566 -0.008183  \n",
       "and       0.048161 -0.004407  \n",
       "as       -0.009759  0.041904  \n",
       "\n",
       "[5 rows x 100 columns]"
      ]
     },
     "execution_count": 11,
     "metadata": {},
     "output_type": "execute_result"
    }
   ],
   "source": [
    "weights=cbow.get_weights()[0]\n",
    "weights = weights[1:]\n",
    "print(weights.shape)\n",
    "\n",
    "pd.DataFrame(weights, index=list(id2words.values())[1:]).head()"
   ]
  },
  {
   "cell_type": "markdown",
   "id": "6a237a31-4b23-46c8-8ed2-7466302061f3",
   "metadata": {
    "id": "6a237a31-4b23-46c8-8ed2-7466302061f3"
   },
   "source": [
    "### d. Output"
   ]
  },
  {
   "cell_type": "code",
   "execution_count": null,
   "id": "2ba58a5e-b2dc-40f0-afa3-741b3757ee9b",
   "metadata": {
    "id": "2ba58a5e-b2dc-40f0-afa3-741b3757ee9b",
    "outputId": "2a9fc40d-c3ab-42d4-8b24-adc871fd4ae1"
   },
   "outputs": [
    {
     "name": "stdout",
     "output_type": "stream",
     "text": [
      "(74, 74)\n"
     ]
    },
    {
     "data": {
      "text/plain": [
       "{'convolutional': ['recurrent',\n",
       "  'recognition',\n",
       "  'deep',\n",
       "  'produced',\n",
       "  'neural',\n",
       "  'been']}"
      ]
     },
     "execution_count": 21,
     "metadata": {},
     "output_type": "execute_result"
    }
   ],
   "source": [
    "# It asks for the input\n",
    "\n",
    "distance_matrix = euclidean_distances(weights)\n",
    "print(distance_matrix.shape)\n",
    "\n",
    "inwords = input()\n",
    "\n",
    "similar_words = {search_term: [id2words[idx] for idx in distance_matrix[words2id[search_term]-1].argsort()[0:6]]\n",
    "                   for search_term in {inwords}}\n",
    "\n",
    "similar_words"
   ]
  },
  {
   "cell_type": "code",
   "execution_count": null,
   "id": "0f787953",
   "metadata": {},
   "outputs": [],
   "source": []
  }
 ],
 "metadata": {
  "colab": {
   "provenance": []
  },
  "kernelspec": {
   "display_name": "Python 3",
   "language": "python",
   "name": "python3"
  },
  "language_info": {
   "codemirror_mode": {
    "name": "ipython",
    "version": 3
   },
   "file_extension": ".py",
   "mimetype": "text/x-python",
   "name": "python",
   "nbconvert_exporter": "python",
   "pygments_lexer": "ipython3",
   "version": "3.9.7"
  }
 },
 "nbformat": 4,
 "nbformat_minor": 5
}
