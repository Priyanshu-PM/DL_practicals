{
 "cells": [
  {
   "cell_type": "markdown",
   "id": "7a31cb7b-5463-41b8-89f3-80c97826bbb4",
   "metadata": {
    "id": "7a31cb7b-5463-41b8-89f3-80c97826bbb4"
   },
   "source": [
    "## Problem Statement 7\n",
    "### Implement the Continuous Bag of Words (CBOW) Model for the given (textual document 2) using the below steps:\n",
    "    a. Data preparation\n",
    "    b. Generate training data\n",
    "    c. Train model\n",
    "    d. Output"
   ]
  },
  {
   "cell_type": "code",
   "execution_count": 1,
   "id": "548f4fd4-7443-4cc7-b95d-4c76df89b18c",
   "metadata": {
    "id": "548f4fd4-7443-4cc7-b95d-4c76df89b18c"
   },
   "outputs": [],
   "source": [
    "from keras.preprocessing import text\n",
    "from keras.preprocessing import sequence\n",
    "from keras.preprocessing.text import Tokenizer\n",
    "from keras.preprocessing.sequence import pad_sequences\n",
    "from keras.utils import np_utils\n",
    "\n",
    "from keras.models import Sequential\n",
    "from keras.layers import Dense, Embedding, Lambda\n",
    "from keras import backend as K\n",
    "\n",
    "from sklearn.metrics.pairwise import euclidean_distances\n",
    "\n",
    "import numpy as np\n",
    "import pandas as pd"
   ]
  },
  {
   "cell_type": "code",
   "execution_count": 2,
   "id": "2684cca7-618b-4922-b0f3-d483bdecd75e",
   "metadata": {
    "id": "2684cca7-618b-4922-b0f3-d483bdecd75e"
   },
   "outputs": [],
   "source": [
    "data=\"\"\"But I must explain to you how all this mistaken idea of denouncing pleasure and praising pain was born and I will give you a complete account of the system, and expound the actual teachings of the great explorer of the truth, the master-builder of human happiness. No one rejects, dislikes, or avoids pleasure itself, because it is pleasure, but because those who do not know how to pursue pleasure rationally encounter consequences that are extremely painful. Nor again is there anyone who loves or pursues or desires to obtain pain of itself, because it is pain, but because occasionally circumstances occur in which toil and pain can procure him some great pleasure. To take a trivial example, which of us ever undertakes laborious physical exercise, except to obtain some advantage from it? But who has any right to find fault with a man who chooses to enjoy a pleasure that has no annoying consequences, or one who avoids a pain that produces no resultant pleasure?\"\"\"\n",
    "\n",
    "dl_data=data.split()"
   ]
  },
  {
   "cell_type": "markdown",
   "id": "47a2a2e4-6fd5-47e7-bae0-acd04bca3a50",
   "metadata": {
    "id": "47a2a2e4-6fd5-47e7-bae0-acd04bca3a50"
   },
   "source": [
    "## a. Data preparation"
   ]
  },
  {
   "cell_type": "code",
   "execution_count": 3,
   "id": "ed1ad1f1-6fff-4828-8c1e-31580ca9e043",
   "metadata": {
    "id": "ed1ad1f1-6fff-4828-8c1e-31580ca9e043"
   },
   "outputs": [],
   "source": [
    "tokenizer = Tokenizer()\n",
    "tokenizer.fit_on_texts(dl_data)\n",
    "\n",
    "words2id = tokenizer.word_index\n",
    "words2id['PAD']=0\n",
    "\n",
    "id2words = {v:k for k,v in words2id.items()}\n",
    "\n",
    "wids = [[words2id[w] for w in text.text_to_word_sequence(doc)] for doc in dl_data]\n",
    "\n",
    "vocab_size=len(words2id)\n",
    "embed_size=100\n",
    "window_size=2"
   ]
  },
  {
   "cell_type": "code",
   "execution_count": 4,
   "id": "1929a8fa-c3c6-416b-a283-725f239241b4",
   "metadata": {
    "id": "1929a8fa-c3c6-416b-a283-725f239241b4",
    "outputId": "dad1c822-8d0b-47f9-9001-79c8bc199636"
   },
   "outputs": [
    {
     "name": "stdout",
     "output_type": "stream",
     "text": [
      "Vocabulary size:  102\n",
      "Vocabulary items:  [('to', 1), ('of', 2), ('pleasure', 3), ('pain', 4), ('a', 5), ('the', 6), ('who', 7), ('but', 8), ('and', 9), ('or', 10)]\n"
     ]
    }
   ],
   "source": [
    "print(\"Vocabulary size: \", vocab_size)\n",
    "print(\"Vocabulary items: \", list(words2id.items())[:10])"
   ]
  },
  {
   "cell_type": "markdown",
   "id": "1a202f40-f7fc-4351-96ce-efeb2be2b16b",
   "metadata": {
    "id": "1a202f40-f7fc-4351-96ce-efeb2be2b16b"
   },
   "source": [
    "## b. Generating training data"
   ]
  },
  {
   "cell_type": "code",
   "execution_count": 5,
   "id": "a181c722-8bbd-4c3e-ada1-ac6a7298936c",
   "metadata": {
    "id": "a181c722-8bbd-4c3e-ada1-ac6a7298936c"
   },
   "outputs": [],
   "source": [
    "def pairwise(corpus, window_size, vocab_size):\n",
    "    context_length=window_size*2\n",
    "\n",
    "    for words in corpus:\n",
    "        sentence_length=len(words)\n",
    "        for index, word in enumerate(words):\n",
    "            context_words=[]\n",
    "            label_word=[]\n",
    "            start = index - window_size\n",
    "            end = index + window_size + 1\n",
    "\n",
    "            context_words.append([words[i]\n",
    "                                 for i in range(start, end)\n",
    "                                 if 0 <= i < sentence_length\n",
    "                                 and i != index])\n",
    "            label_word.append(word)\n",
    "\n",
    "            x = pad_sequences(context_words, maxlen=context_length)\n",
    "            y = np_utils.to_categorical(label_word, vocab_size)\n",
    "            yield(x,y)"
   ]
  },
  {
   "cell_type": "markdown",
   "id": "f4cf5938-a1b4-4dce-ac6f-0cf05087ae00",
   "metadata": {
    "id": "f4cf5938-a1b4-4dce-ac6f-0cf05087ae00"
   },
   "source": [
    "## c. Training the model"
   ]
  },
  {
   "cell_type": "code",
   "execution_count": 6,
   "id": "99f5fa08-deee-48ca-85dc-a5e6ae5e700c",
   "metadata": {
    "id": "99f5fa08-deee-48ca-85dc-a5e6ae5e700c"
   },
   "outputs": [],
   "source": [
    "cbow = Sequential()\n",
    "\n",
    "cbow.add(Embedding(input_dim = vocab_size, output_dim = embed_size, input_length = window_size * 2))\n",
    "cbow.add(Lambda(lambda x:K.mean(x, axis = 1), output_shape=(embed_size,)))\n",
    "cbow.add(Dense(vocab_size, activation=\"softmax\"))\n",
    "\n",
    "cbow.compile(loss=\"categorical_crossentropy\", optimizer=\"rmsprop\")"
   ]
  },
  {
   "cell_type": "code",
   "execution_count": 7,
   "id": "6b4b3f3a-ce4f-49ac-ba7c-d345b4bb1a36",
   "metadata": {
    "id": "6b4b3f3a-ce4f-49ac-ba7c-d345b4bb1a36",
    "outputId": "c63cbfaa-af0a-4d25-9fbc-e8f4aa4e393e"
   },
   "outputs": [
    {
     "name": "stdout",
     "output_type": "stream",
     "text": [
      "Model: \"sequential\"\n",
      "_________________________________________________________________\n",
      " Layer (type)                Output Shape              Param #   \n",
      "=================================================================\n",
      " embedding (Embedding)       (None, 4, 100)            10200     \n",
      "                                                                 \n",
      " lambda (Lambda)             (None, 100)               0         \n",
      "                                                                 \n",
      " dense (Dense)               (None, 102)               10302     \n",
      "                                                                 \n",
      "=================================================================\n",
      "Total params: 20,502\n",
      "Trainable params: 20,502\n",
      "Non-trainable params: 0\n",
      "_________________________________________________________________\n",
      "None\n"
     ]
    }
   ],
   "source": [
    "print(cbow.summary())"
   ]
  },
  {
   "cell_type": "code",
   "execution_count": 8,
   "id": "f3e26938-c8a4-4d58-be02-897a213b15eb",
   "metadata": {
    "id": "f3e26938-c8a4-4d58-be02-897a213b15eb",
    "outputId": "989e60ea-b59e-427d-aedd-9a148c7b7e82"
   },
   "outputs": [
    {
     "name": "stdout",
     "output_type": "stream",
     "text": [
      "Epoch: 1 Loss: 773.6744208335876\n",
      "\n",
      "Epoch: 2 Loss: 759.7337009906769\n",
      "\n",
      "Epoch: 3 Loss: 748.727814912796\n",
      "\n",
      "Epoch: 4 Loss: 744.9754633903503\n",
      "\n",
      "Epoch: 5 Loss: 743.4458160400391\n",
      "\n"
     ]
    }
   ],
   "source": [
    "for epoch in range(1,6):\n",
    "    loss=0\n",
    "\n",
    "    for x,y in pairwise(corpus=wids, window_size=window_size, vocab_size=vocab_size):\n",
    "        loss += cbow.train_on_batch(x, y)\n",
    "    print(\"Epoch: {} Loss: {}\".format(epoch,loss))\n",
    "    print()"
   ]
  },
  {
   "cell_type": "code",
   "execution_count": 9,
   "id": "785e035d-882e-4942-b565-048bc5402274",
   "metadata": {
    "id": "785e035d-882e-4942-b565-048bc5402274",
    "outputId": "70c033a7-df90-4d1a-dff9-e7f6f5264ee6"
   },
   "outputs": [
    {
     "name": "stdout",
     "output_type": "stream",
     "text": [
      "(101, 100)\n"
     ]
    },
    {
     "data": {
      "text/html": [
       "<div>\n",
       "<style scoped>\n",
       "    .dataframe tbody tr th:only-of-type {\n",
       "        vertical-align: middle;\n",
       "    }\n",
       "\n",
       "    .dataframe tbody tr th {\n",
       "        vertical-align: top;\n",
       "    }\n",
       "\n",
       "    .dataframe thead th {\n",
       "        text-align: right;\n",
       "    }\n",
       "</style>\n",
       "<table border=\"1\" class=\"dataframe\">\n",
       "  <thead>\n",
       "    <tr style=\"text-align: right;\">\n",
       "      <th></th>\n",
       "      <th>0</th>\n",
       "      <th>1</th>\n",
       "      <th>2</th>\n",
       "      <th>3</th>\n",
       "      <th>4</th>\n",
       "      <th>5</th>\n",
       "      <th>6</th>\n",
       "      <th>7</th>\n",
       "      <th>8</th>\n",
       "      <th>9</th>\n",
       "      <th>...</th>\n",
       "      <th>90</th>\n",
       "      <th>91</th>\n",
       "      <th>92</th>\n",
       "      <th>93</th>\n",
       "      <th>94</th>\n",
       "      <th>95</th>\n",
       "      <th>96</th>\n",
       "      <th>97</th>\n",
       "      <th>98</th>\n",
       "      <th>99</th>\n",
       "    </tr>\n",
       "  </thead>\n",
       "  <tbody>\n",
       "    <tr>\n",
       "      <th>of</th>\n",
       "      <td>0.035179</td>\n",
       "      <td>0.023368</td>\n",
       "      <td>0.049963</td>\n",
       "      <td>-0.007478</td>\n",
       "      <td>0.034212</td>\n",
       "      <td>0.038297</td>\n",
       "      <td>-0.031115</td>\n",
       "      <td>0.043417</td>\n",
       "      <td>-0.047161</td>\n",
       "      <td>0.028689</td>\n",
       "      <td>...</td>\n",
       "      <td>0.005756</td>\n",
       "      <td>-0.018679</td>\n",
       "      <td>0.007764</td>\n",
       "      <td>0.004578</td>\n",
       "      <td>-0.025996</td>\n",
       "      <td>-0.007956</td>\n",
       "      <td>0.019899</td>\n",
       "      <td>-0.040133</td>\n",
       "      <td>-0.049973</td>\n",
       "      <td>0.043166</td>\n",
       "    </tr>\n",
       "    <tr>\n",
       "      <th>pleasure</th>\n",
       "      <td>0.045747</td>\n",
       "      <td>-0.016991</td>\n",
       "      <td>0.041693</td>\n",
       "      <td>-0.012932</td>\n",
       "      <td>-0.039860</td>\n",
       "      <td>0.009047</td>\n",
       "      <td>0.002665</td>\n",
       "      <td>0.024652</td>\n",
       "      <td>-0.046257</td>\n",
       "      <td>0.027263</td>\n",
       "      <td>...</td>\n",
       "      <td>-0.000842</td>\n",
       "      <td>-0.013116</td>\n",
       "      <td>-0.013517</td>\n",
       "      <td>-0.007207</td>\n",
       "      <td>0.007037</td>\n",
       "      <td>-0.043289</td>\n",
       "      <td>0.003623</td>\n",
       "      <td>0.038937</td>\n",
       "      <td>-0.049211</td>\n",
       "      <td>-0.009029</td>\n",
       "    </tr>\n",
       "    <tr>\n",
       "      <th>pain</th>\n",
       "      <td>0.027725</td>\n",
       "      <td>0.047766</td>\n",
       "      <td>0.037364</td>\n",
       "      <td>-0.010055</td>\n",
       "      <td>0.011514</td>\n",
       "      <td>0.038374</td>\n",
       "      <td>0.038940</td>\n",
       "      <td>0.022389</td>\n",
       "      <td>0.007940</td>\n",
       "      <td>0.022344</td>\n",
       "      <td>...</td>\n",
       "      <td>0.023969</td>\n",
       "      <td>-0.038194</td>\n",
       "      <td>0.031198</td>\n",
       "      <td>0.011376</td>\n",
       "      <td>0.037452</td>\n",
       "      <td>-0.028125</td>\n",
       "      <td>0.040851</td>\n",
       "      <td>-0.049558</td>\n",
       "      <td>-0.048536</td>\n",
       "      <td>0.002859</td>\n",
       "    </tr>\n",
       "    <tr>\n",
       "      <th>a</th>\n",
       "      <td>0.039197</td>\n",
       "      <td>0.014887</td>\n",
       "      <td>0.005141</td>\n",
       "      <td>0.007287</td>\n",
       "      <td>0.018211</td>\n",
       "      <td>-0.008881</td>\n",
       "      <td>-0.047905</td>\n",
       "      <td>-0.022020</td>\n",
       "      <td>-0.027918</td>\n",
       "      <td>-0.022115</td>\n",
       "      <td>...</td>\n",
       "      <td>-0.008482</td>\n",
       "      <td>-0.017775</td>\n",
       "      <td>0.037556</td>\n",
       "      <td>-0.022071</td>\n",
       "      <td>-0.021873</td>\n",
       "      <td>0.034996</td>\n",
       "      <td>0.019938</td>\n",
       "      <td>-0.031782</td>\n",
       "      <td>0.013948</td>\n",
       "      <td>0.006009</td>\n",
       "    </tr>\n",
       "    <tr>\n",
       "      <th>the</th>\n",
       "      <td>-0.015644</td>\n",
       "      <td>0.001658</td>\n",
       "      <td>0.005288</td>\n",
       "      <td>0.001571</td>\n",
       "      <td>-0.025929</td>\n",
       "      <td>0.015047</td>\n",
       "      <td>-0.016131</td>\n",
       "      <td>-0.000493</td>\n",
       "      <td>-0.033741</td>\n",
       "      <td>0.038236</td>\n",
       "      <td>...</td>\n",
       "      <td>-0.047691</td>\n",
       "      <td>-0.026041</td>\n",
       "      <td>-0.040466</td>\n",
       "      <td>-0.011180</td>\n",
       "      <td>-0.049383</td>\n",
       "      <td>-0.031510</td>\n",
       "      <td>0.046340</td>\n",
       "      <td>-0.028934</td>\n",
       "      <td>0.009354</td>\n",
       "      <td>0.011843</td>\n",
       "    </tr>\n",
       "  </tbody>\n",
       "</table>\n",
       "<p>5 rows × 100 columns</p>\n",
       "</div>"
      ],
      "text/plain": [
       "                0         1         2         3         4         5   \\\n",
       "of        0.035179  0.023368  0.049963 -0.007478  0.034212  0.038297   \n",
       "pleasure  0.045747 -0.016991  0.041693 -0.012932 -0.039860  0.009047   \n",
       "pain      0.027725  0.047766  0.037364 -0.010055  0.011514  0.038374   \n",
       "a         0.039197  0.014887  0.005141  0.007287  0.018211 -0.008881   \n",
       "the      -0.015644  0.001658  0.005288  0.001571 -0.025929  0.015047   \n",
       "\n",
       "                6         7         8         9   ...        90        91  \\\n",
       "of       -0.031115  0.043417 -0.047161  0.028689  ...  0.005756 -0.018679   \n",
       "pleasure  0.002665  0.024652 -0.046257  0.027263  ... -0.000842 -0.013116   \n",
       "pain      0.038940  0.022389  0.007940  0.022344  ...  0.023969 -0.038194   \n",
       "a        -0.047905 -0.022020 -0.027918 -0.022115  ... -0.008482 -0.017775   \n",
       "the      -0.016131 -0.000493 -0.033741  0.038236  ... -0.047691 -0.026041   \n",
       "\n",
       "                92        93        94        95        96        97  \\\n",
       "of        0.007764  0.004578 -0.025996 -0.007956  0.019899 -0.040133   \n",
       "pleasure -0.013517 -0.007207  0.007037 -0.043289  0.003623  0.038937   \n",
       "pain      0.031198  0.011376  0.037452 -0.028125  0.040851 -0.049558   \n",
       "a         0.037556 -0.022071 -0.021873  0.034996  0.019938 -0.031782   \n",
       "the      -0.040466 -0.011180 -0.049383 -0.031510  0.046340 -0.028934   \n",
       "\n",
       "                98        99  \n",
       "of       -0.049973  0.043166  \n",
       "pleasure -0.049211 -0.009029  \n",
       "pain     -0.048536  0.002859  \n",
       "a         0.013948  0.006009  \n",
       "the       0.009354  0.011843  \n",
       "\n",
       "[5 rows x 100 columns]"
      ]
     },
     "execution_count": 9,
     "metadata": {},
     "output_type": "execute_result"
    }
   ],
   "source": [
    "weights = cbow.get_weights()[0]\n",
    "weights = weights[1:]\n",
    "print(weights.shape)\n",
    "\n",
    "pd.DataFrame(weights, index=list(id2words.values())[1:]).head()"
   ]
  },
  {
   "cell_type": "markdown",
   "id": "dac16b55-feae-462b-a3c6-47d58a0284a8",
   "metadata": {
    "id": "dac16b55-feae-462b-a3c6-47d58a0284a8"
   },
   "source": [
    "## d. Output"
   ]
  },
  {
   "cell_type": "code",
   "execution_count": 10,
   "id": "3b47d7c0-0132-45d9-ace3-e79d9780b261",
   "metadata": {
    "id": "3b47d7c0-0132-45d9-ace3-e79d9780b261",
    "outputId": "80658137-0de9-4405-e23c-6ffcef5907c9"
   },
   "outputs": [
    {
     "name": "stdout",
     "output_type": "stream",
     "text": [
      "(101, 101)\n"
     ]
    }
   ],
   "source": [
    "distance_matrix = euclidean_distances(weights)\n",
    "print(distance_matrix.shape)"
   ]
  },
  {
   "cell_type": "code",
   "execution_count": 12,
   "id": "d5f14c45-0153-4d59-81b5-2834c23a3c65",
   "metadata": {
    "id": "d5f14c45-0153-4d59-81b5-2834c23a3c65",
    "outputId": "6427b466-4752-4612-9bd1-5040f9b4d9fe"
   },
   "outputs": [
    {
     "data": {
      "text/plain": [
       "{'teachings': ['actual', 'that', 'in', 'PAD', 'a', 'complete']}"
      ]
     },
     "execution_count": 12,
     "metadata": {},
     "output_type": "execute_result"
    }
   ],
   "source": [
    "inwords = input()\n",
    "\n",
    "similar_words={ search_term: [id2words[idx] for idx in distance_matrix[words2id[search_term]-1].argsort()[0:6]]\n",
    "              for search_term in {inwords}}\n",
    "similar_words"
   ]
  },
  {
   "cell_type": "code",
   "execution_count": null,
   "id": "a6ef7d46-5411-4feb-95b1-eaaba3ebde4a",
   "metadata": {
    "id": "a6ef7d46-5411-4feb-95b1-eaaba3ebde4a"
   },
   "outputs": [],
   "source": []
  }
 ],
 "metadata": {
  "colab": {
   "provenance": []
  },
  "kernelspec": {
   "display_name": "Python 3",
   "language": "python",
   "name": "python3"
  },
  "language_info": {
   "codemirror_mode": {
    "name": "ipython",
    "version": 3
   },
   "file_extension": ".py",
   "mimetype": "text/x-python",
   "name": "python",
   "nbconvert_exporter": "python",
   "pygments_lexer": "ipython3",
   "version": "3.9.7"
  }
 },
 "nbformat": 4,
 "nbformat_minor": 5
}
